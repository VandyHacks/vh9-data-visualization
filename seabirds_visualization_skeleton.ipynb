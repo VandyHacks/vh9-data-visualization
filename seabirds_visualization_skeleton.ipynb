{
 "cells": [
  {
   "cell_type": "code",
   "execution_count": null,
   "id": "c04a71ff",
   "metadata": {},
   "outputs": [],
   "source": [
    "import matplotlib.pyplot as plt\n",
    "import numpy as np\n",
    "import pandas as pd\n",
    "import seaborn as sns\n",
    "\n",
    "%matplotlib inline"
   ]
  },
  {
   "cell_type": "code",
   "execution_count": null,
   "id": "b78f8bc1",
   "metadata": {},
   "outputs": [],
   "source": [
    "df = pd.read_csv(\"anon_gps_tracks_with_dive.csv\")\n",
    "df.drop(columns = [\"Unnamed: 0\"], inplace = True)\n",
    "df.head()"
   ]
  },
  {
   "cell_type": "code",
   "execution_count": null,
   "id": "fb28c9f1",
   "metadata": {},
   "outputs": [],
   "source": [
    "# Task: visualize number of colonies / species and distribution of each."
   ]
  },
  {
   "cell_type": "code",
   "execution_count": null,
   "id": "8835de6a",
   "metadata": {},
   "outputs": [],
   "source": [
    "# Task: location distribution of birds based on species (pair plot)."
   ]
  },
  {
   "cell_type": "code",
   "execution_count": null,
   "id": "237bef88",
   "metadata": {},
   "outputs": [],
   "source": [
    "# Task: individual track of bird as a function of its altitude, latitude, and longitude."
   ]
  }
 ],
 "metadata": {
  "kernelspec": {
   "display_name": "Python 3",
   "language": "python",
   "name": "python3"
  },
  "language_info": {
   "codemirror_mode": {
    "name": "ipython",
    "version": 3
   },
   "file_extension": ".py",
   "mimetype": "text/x-python",
   "name": "python",
   "nbconvert_exporter": "python",
   "pygments_lexer": "ipython3",
   "version": "3.9.4"
  }
 },
 "nbformat": 4,
 "nbformat_minor": 5
}
